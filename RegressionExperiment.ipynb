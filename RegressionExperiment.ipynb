{
 "cells": [
  {
   "cell_type": "code",
   "execution_count": 1,
   "metadata": {},
   "outputs": [
    {
     "data": {
      "image/png": "[encoded data removed]",
      "text/plain": [
       "<matplotlib.figure.Figure at 0x2544618bcf8>"
      ]
     },
     "metadata": {},
     "output_type": "display_data"
    }
   ],
   "source": [
    "import sklearn\n",
    "import numpy as np\n",
    "import matplotlib.pyplot as plt\n",
    "from sklearn.externals.joblib import Memory\n",
    "from sklearn.datasets import load_svmlight_file\n",
    "\n",
    "mem = Memory(\"./mycache\")\n",
    "\n",
    "@mem.cache\n",
    "def get_data():\n",
    "    data = load_svmlight_file(\"F:\\\\machinelearning\\\\11.txt\")\n",
    "    return data[0], data[1]\n",
    "\n",
    "X, y = get_data()\n",
    "X=X.todense()\n",
    "\n",
    "from sklearn.model_selection import train_test_split\n",
    "X_train, X_test, y_train, y_test = train_test_split(X, y, test_size=0.2, random_state=0)\n",
    "\n",
    "from numpy import *\n",
    "w=mat(zeros((13,1)))\n",
    "b=np.random.normal()\n",
    "b1=mat(b)\n",
    "w1=vstack((w,b1))\n",
    "\n",
    "def loss(x,y):\n",
    "    a=len(x)\n",
    "    kk=mat(ones((a,1)))\n",
    "    xx=hstack((x, kk))\n",
    "    y_t=mat(y).T\n",
    "    tt=y_t -xx*w1\n",
    "    return (tt.T)*tt\n",
    "\n",
    "def gradient(x,y):\n",
    "    a = len(x)\n",
    "    kk = mat(ones((a, 1)))\n",
    "    xx = hstack((x, kk))\n",
    "    xx_t=xx.T\n",
    "    y_t = mat(y).T\n",
    "    t1= xx*w1\n",
    "\n",
    "    return 2*xx_t*(( t1- y_t ))\n",
    "\n",
    "rate=0.0001\n",
    "listx=[]\n",
    "listy=[]\n",
    "listz=[]\n",
    "for i in range(1000):\n",
    "    w1=w1- rate * gradient(X_train,y_train)\n",
    "    listx.append(i)\n",
    "    aaa=loss(X_train,y_train)\n",
    "    aaa2=array(aaa)\n",
    "    listy.append(aaa2[0][0])\n",
    "    bbb = loss(X_test, y_test)\n",
    "    bbb2 = array(bbb)\n",
    "    listz.append(bbb2[0][0])\n",
    "\n",
    "\n",
    "plt.figure('model')\n",
    "plt.plot(listx ,listy, label=\"$losstrain$\",color=\"red\", linewidth=2)\n",
    "#plt.figure('losstest')\n",
    "plt.plot(listx ,listz, label=\"$losstest$\",color=\"blue\", linewidth=2)\n",
    "plt.title([\"rate=\",rate])\n",
    "plt.legend()\n",
    "plt.show()\n",
    "\n",
    "\n",
    "\n"
   ]
  }
 ],
 "metadata": {
  "kernelspec": {
   "display_name": "Python 3",
   "language": "python",
   "name": "python3"
  },
  "language_info": {
   "codemirror_mode": {
    "name": "ipython",
    "version": 3
   },
   "file_extension": ".py",
   "mimetype": "text/x-python",
   "name": "python",
   "nbconvert_exporter": "python",
   "pygments_lexer": "ipython3",
   "version": "3.5.4"
  }
 },
 "nbformat": 4,
 "nbformat_minor": 2
}
